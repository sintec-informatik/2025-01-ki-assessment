{
 "cells": [
  {
   "metadata": {},
   "cell_type": "markdown",
   "source": [
    "# Erkennen von Fahrbahnmarkierungen\n",
    "\n",
    "Dieses `Jupyter-Notebook` beschreibt alle notwendigen Schritte, um das Erkennen und Hervorheben von Fahrbahnmarkierungen mit der _Code-Sprache_ deiner Wahl umzusetzen.\n",
    "\n",
    "Die zur Verfügung stehende Bilder wurden mit einer _GoPro_ aufgenommen.\n",
    "\n",
    "Die Bilder liegen in dem Pfad: `img/task/`."
   ],
   "id": "eea2169a66c088fe"
  },
  {
   "metadata": {},
   "cell_type": "code",
   "source": "image_file : str = \"img/task/frame-001281.00.jpg\"",
   "id": "a86a459653be9ac7",
   "outputs": [],
   "execution_count": null
  },
  {
   "metadata": {},
   "cell_type": "markdown",
   "source": [
    "**Aufgabe 1**:\n",
    "\n",
    "Lade das Bild mit `Matplotib` und zeige es in *Grau* an."
   ],
   "id": "9fec61aa80e01c25"
  },
  {
   "metadata": {},
   "cell_type": "code",
   "source": "# Code here",
   "id": "63e442ca31abd5bf",
   "outputs": [],
   "execution_count": null
  },
  {
   "metadata": {},
   "cell_type": "markdown",
   "source": [
    "Das komplette Bild ist für die Erkennung der Fahrbahnmarkierungen nicht notwendig.\n",
    "Stattdessen sollten wir uns nur auf die Straße bzw. die **Fahrbahn** in Blickrichtung der Kamera kümmern. \n",
    "Um diesen Blickwinkel auszuwählen, ist es hilfreich mittels Punkten und Linien die Straße zu selektieren.\n",
    "\n",
    "**Aufgabe 2**:\n",
    "\n",
    "Zeichne die bereits vorgegebene Punkte (`start_points`) in das Bild ein.\n",
    "Welcher Teil des Bildes sollte mithilfe der Punkte selektiert werden?\n",
    "\n",
    "_Tipp_: Verbinde die Außenpunkte mit Linien.\n",
    "\n",
    "Speichere das so entstandene Bild unter einem eindeutigen Namen ab!\n",
    "\n",
    "_Tipp_: Zeichne das Bild und die Linien erneut. Deaktiviere die Achsen. Speichere dann das Bild ab, ohne es vorher anzuzeigen!"
   ],
   "id": "bc2998e31d6928b1"
  },
  {
   "metadata": {},
   "cell_type": "code",
   "source": [
    "import numpy as np\n",
    "\n",
    "start_points = np.array([\n",
    "    (275, 970),\n",
    "    (840, 820),\n",
    "    (1788, 970),\n",
    "    (1120, 820)\n",
    "])\n",
    "\n",
    "# Code here"
   ],
   "id": "860eaebda4a8c38a",
   "outputs": [],
   "execution_count": null
  },
  {
   "metadata": {},
   "cell_type": "markdown",
   "source": [
    "Wir konzentrieren uns jetzt auf den selektierten Teil der Straße.\n",
    "\n",
    "Kann man bereits senkrechte Linien erkennen?\n",
    "\n",
    "Stell dir vor, du wechselst die Perspektive: Du bist nicht mehr im Auto, mit dem Blick zu Straße, sondern ein _Vogel_ oder _Drohne_, die über die sichtbare Straße schwebt.\n",
    "\n",
    "Was passiert mit den Linien?\n",
    "\n",
    "_Richtig, wir erhalten senkrechte Linien, die die Fahrbahnmarkierungen darstellen._\n",
    "\n",
    "Die nächsten Schritte fokussieren sich auf diesen Perspektivenwechsel.\n",
    "\n",
    "Als Nächstes legen wir ein einfaches Bildformat (`final_image_size`) fest.\n",
    "In den folgenden Schritten projizieren wir den selektierten Bildbereich in das einfache Bildformat herein."
   ],
   "id": "224b85d92a4f316f"
  },
  {
   "metadata": {},
   "cell_type": "code",
   "source": [
    "final_image_size = (500, 500)\n",
    "final_points = np.array([\n",
    "    (0, 500),\n",
    "    (0,0),\n",
    "    (500, 500),\n",
    "    (500,0),\n",
    "])"
   ],
   "id": "f9cc16b4ef0a4f8b",
   "outputs": [],
   "execution_count": null
  },
  {
   "metadata": {},
   "cell_type": "markdown",
   "source": [
    "**Aufgabe 3**:\n",
    "\n",
    "Berechne die _Projektion_ um die Startpunkte (`start_points`) in die finalen Punkte (`final_points`) zu übersetzen.\n",
    "_Transformiere_ das Bild mit der entstandenen Projektion und zeige es an.\n",
    "\n",
    "- Speichere die Projektion in der Variable `birds_eye_projection` ab.\n",
    "- Speichere die Vogelperspektive in der Variable `image_birds_eye_view` ab.\n",
    "\n",
    "_Tipp_: Das Bild repräsentiert die _Vogelperspektive_. Verwende `final_image_size`um das entstehende Bild zu begrenzen.\n",
    "\n",
    "Speichere das so entstandene Bild unter einem eindeutigen Namen ab!\n",
    "\n",
    "_Tipp_: Zeichne das Bild und die Linien erneut. Deaktiviere die Achsen. Speichere dann das Bild ab, ohne es vorher anzuzeigen!"
   ],
   "id": "6732ff3ca6cd105e"
  },
  {
   "metadata": {},
   "cell_type": "code",
   "source": "# Code here",
   "id": "50c3b74e9e15f9fd",
   "outputs": [],
   "execution_count": null
  },
  {
   "metadata": {},
   "cell_type": "markdown",
   "source": [
    "Mit dieser Übersetzung des Bildes in die _Vogelperspektive_ haben wir ein Bild, welches nur noch die **Fahrbahn** selbst zeigt.\n",
    "Das sind ideale Voraussetzungen um die **Fahrbahn** zu erkennen.\n",
    "Später werden wir die Übersetzung (_Vogelperspektive_) mit den erkannten Linien rückgängig machen und so die **Fahrbahn** im Originalbild markieren.\n",
    "\n",
    "Die Fahrbahnmarkierungen setzen sich gut von der Straße selbst ab. \n",
    "Mittels Kantenerkennung lassen sich die Fahrbahnmarkierungen in dem Bild erkennen.\n",
    "\n",
    "**Aufgabe 4**:\n",
    "\n",
    "Führe eine Kantenerkennung mit dem `Canny`-Algorithmus durch.\n",
    "Zeige das entstandene Bild.\n",
    "\n",
    "_Tipp_: Eine Kantenglättung verbessert das Ergebnis.\n",
    "\n",
    "Speichere das so entstandene Bild unter einem eindeutigen Namen ab!\n",
    "\n",
    "_Tipp_: Zeichne das Bild und die Linien erneut. Deaktiviere die Achsen. Speichere dann das Bild ab, ohne es vorher anzuzeigen!\n"
   ],
   "id": "a382bde80a645aaa"
  },
  {
   "metadata": {},
   "cell_type": "code",
   "source": [
    "# Falls die vorherige Aufgabe nicht gelöst werden konnte\n",
    "if image_birds_eye_view is None:\n",
    "    from skimage import color\n",
    "    image_birds_eye_view = plt.imread(image_file[:-4]+ \"_bird_view_helper.jpg\")\n",
    "    image_birds_eye_view = color.rgb2gray(image_birds_eye_view)\n",
    "\n",
    "# Code here"
   ],
   "id": "2a4cebb67bb5c0a",
   "outputs": [],
   "execution_count": null
  },
  {
   "metadata": {},
   "cell_type": "markdown",
   "source": [
    "Nun müssen wir nur noch die so gefundenen Fahrbahnmarkierungspunkte zu einer Linie zusammensetzen.\n",
    "\n",
    "**Aufgabe 5**:\n",
    "\n",
    "Schaue dir das Bild genau an.\n",
    "\n",
    "In welchem Winkel sollten die senkrechten Linien maximal verlaufen?\n",
    "\n",
    "\n",
    "Erkenne die möglichen Fahrbahnlinien mittels _probabilistischem_ `Hough Line`-Algorithmus und den maximalen Winkel der senkrechten Linien.\n",
    "\n",
    "Speichere die erkannten Linien in der Variablen `detected_lines` ab und führe die nächste Codezelle aus!\n",
    "\n",
    "_Tipp_: Die Mittellinien sind unterbrochen. Finde den Konfigurationswert um unterbrochene Linien (250 Pixel lang) zusammenzuführen."
   ],
   "id": "3cab2689bb441bfd"
  },
  {
   "metadata": {},
   "cell_type": "code",
   "source": "# Code here",
   "id": "e1ea8ab006e14b74",
   "outputs": [],
   "execution_count": null
  },
  {
   "metadata": {},
   "cell_type": "markdown",
   "source": "Die erkannten Linien lassen sich am besten in einem `DataFrame` betrachten.",
   "id": "ed6bab0b5bd86828"
  },
  {
   "metadata": {},
   "cell_type": "code",
   "source": [
    "import pandas as pd\n",
    "\n",
    "best_lines = pd.DataFrame(np.array(detected_lines).reshape(-1, 4), columns=['start_x', 'start_y', 'end_x', 'end_y'])\n",
    "best_lines"
   ],
   "id": "50d25b17fae20f91",
   "outputs": [],
   "execution_count": null
  },
  {
   "metadata": {},
   "cell_type": "markdown",
   "source": [
    "**Aufgabe 6**:\n",
    "\n",
    "Zeichne die Linien aus der Variablen `best_lines` in das Bild der _Vogelperspektive_ ein.\n",
    "\n",
    "Werden die Fahrbahnmarkierungen richtig erkannt?\n",
    "\n",
    "_Tipp_: Lade zunächst das Bild und zeichne im Anschluss die Linien in Rot darüber um diese optimal zu erkennen!\n",
    "\n",
    "\n",
    "Speichere das so entstandene Bild unter einem eindeutigen Namen ab!\n",
    "\n",
    "_Tipp_: Zeichne das Bild und die Linien erneut. Deaktiviere die Achsen. Speichere dann das Bild ab, ohne es vorher anzuzeigen!"
   ],
   "id": "b6e0d570c5dbb6f2"
  },
  {
   "metadata": {},
   "cell_type": "code",
   "source": "# Code here",
   "id": "9a84df6e4512cdb9",
   "outputs": [],
   "execution_count": null
  },
  {
   "metadata": {},
   "cell_type": "markdown",
   "source": [
    "Wenn die Fahrbahnmarkierungen gut in der Vogelperspektive erkannt wurden, ist es an der Zeit die erkannten Linien in das Originalbild zurückzuübersetzen. \n",
    "Die von euch erstellte Projektion sollte die Rücktransformation der Linien ermöglichen. \n",
    "Wir haben die Linien in Start und Endpunkte aufgesplittet, da die Projektion von zwei Koordinaten (`x` und `y`) ausgeht.\n",
    "\n",
    "**Aufgabe 7**:\n",
    "\n",
    "Projiziere `road_lanes_start` und `road_lanes_end` zurück.\n",
    "\n",
    "Zeichne die so entstandenen Punkte als rote Linien in das Originalbild ein!\n",
    "\n",
    "Speichere das entstandene Bild unter einem eindeutigen Namen ab!\n",
    "\n",
    "_Tipp_: Zeichne das Bild und die Linien erneut. Deaktiviere die Achsen. Speichere dann das Bild ab, ohne es vorher anzuzeigen!"
   ],
   "id": "f26f3b54e670054a"
  },
  {
   "metadata": {},
   "cell_type": "code",
   "source": [
    "road_lanes_start = best_lines[['start_x', 'start_y']].to_numpy()\n",
    "road_lanes_end = best_lines[['end_x', 'end_y']].to_numpy()\n",
    "\n",
    "# Code here"
   ],
   "id": "905ee7d9b839cfda",
   "outputs": [],
   "execution_count": null
  },
  {
   "metadata": {},
   "cell_type": "markdown",
   "source": "Probiere deine Verarbeitungsschritte für die anderen Bilder aus.",
   "id": "3caf344877030201"
  },
  {
   "metadata": {},
   "cell_type": "markdown",
   "source": [
    "***\n",
    "**Zusatzaufgabe**: Löse die Zusatzaufgabe, wenn ihr alle Aufgabenstellung einmal durchgearbeitet habt!\n",
    "\n",
    "Filter die erkannten Linien (`best_lines`, aus **Aufgabe 5**) oder führe die erkannten Linien in zwei Gruppen zusammen (linke Randlinien und rechte Randlinie).\n",
    "***"
   ],
   "id": "aca1bb0612059b7"
  },
  {
   "metadata": {},
   "cell_type": "code",
   "source": "# Code here",
   "id": "c52db082aee27dc7",
   "outputs": [],
   "execution_count": null
  },
  {
   "metadata": {},
   "cell_type": "markdown",
   "source": [
    "***\n",
    "**Zusatzaufgabe**: \n",
    "\n",
    "Tausche `best_lines`mit den zusammengeführten oder gefilterten Linien aus und führe den Code aus **Aufgabe 6** und **Aufgabe 7** aus.\n",
    "\n",
    "Was fällt in den Bildern auf?\n",
    "\n",
    "Speichere das Ergebnisbild mit einem eindeutigen Namen ab.\n",
    "***"
   ],
   "id": "f480f7678f1da316"
  },
  {
   "metadata": {},
   "cell_type": "code",
   "source": "# Code here",
   "id": "5ba41a26311909f1",
   "outputs": [],
   "execution_count": null
  }
 ],
 "metadata": {
  "kernelspec": {
   "name": "python3",
   "language": "python",
   "display_name": "Python 3 (ipykernel)"
  }
 },
 "nbformat": 5,
 "nbformat_minor": 9
}
