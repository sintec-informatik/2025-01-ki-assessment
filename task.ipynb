{
 "cells": [
  {
   "metadata": {},
   "cell_type": "markdown",
   "source": [
    "# Recognising lane markings\n",
    "\n",
    "This `Jupyter-Notebook` describes all the necessary steps to realise the recognition and highlighting of lane markings with the _code language_ of your choice.\n",
    "\n",
    "The images provided were taken with a _GoPro_.\n",
    "\n",
    "The images are located in the path: `img/task/`.\n"
   ],
   "id": "eea2169a66c088fe"
  },
  {
   "metadata": {},
   "cell_type": "code",
   "source": "image_file : str = \"img/task/frame-001281.00.jpg\"",
   "id": "a86a459653be9ac7",
   "outputs": [],
   "execution_count": null
  },
  {
   "metadata": {},
   "cell_type": "markdown",
   "source": [
    "**Task 1**:\n",
    "\n",
    "Load the image with `Matplotib` and display it in *grey*."
   ],
   "id": "9fec61aa80e01c25"
  },
  {
   "metadata": {},
   "cell_type": "code",
   "source": "# Code here",
   "id": "63e442ca31abd5bf",
   "outputs": [],
   "execution_count": null
  },
  {
   "metadata": {},
   "cell_type": "markdown",
   "source": [
    "The complete image is not necessary for recognising the lane markings.\n",
    "Instead, we should only focus on the road or the **roadway** in the camera's line of vision. \n",
    "To select this viewpoint, it is helpful to select the road using points and lines.\n",
    "\n",
    "**Task 2**:\n",
    "\n",
    "Draw the already given points (`start_points`) into the picture.\n",
    "Which part of the picture should be selected using the points?\n",
    "\n",
    "_Tip_: Connect the outer points with lines.\n",
    "\n",
    "Save the resulting image under a unique name!\n",
    "\n",
    "_Tip_: Draw the image and the lines again. Deactivate the axes. Then save the image without displaying it first!\n"
   ],
   "id": "bc2998e31d6928b1"
  },
  {
   "metadata": {},
   "cell_type": "code",
   "source": [
    "import numpy as np\n",
    "\n",
    "start_points = np.array([\n",
    "    (275, 970),\n",
    "    (840, 820),\n",
    "    (1788, 970),\n",
    "    (1120, 820)\n",
    "])\n",
    "\n",
    "# Code here"
   ],
   "id": "860eaebda4a8c38a",
   "outputs": [],
   "execution_count": null
  },
  {
   "metadata": {},
   "cell_type": "markdown",
   "source": [
    "We are now focussing on the selected part of the road.\n",
    "\n",
    "Can you already recognise vertical lines?\n",
    "\n",
    "Imagine you change your perspective: you are no longer in the car, looking at the road, but a _bird_ or _drone_ hovering over the visible road.\n",
    "\n",
    "What happens to the lines?\n",
    "\n",
    "Right, we get vertical lines that represent the lane markings.\n",
    "\n",
    "The next steps focus on this change of perspective.\n",
    "\n",
    "Next, we define a simple image format (`final_image_size`).\n",
    "In the following steps, we project the selected image area into the simple image format.\n"
   ],
   "id": "224b85d92a4f316f"
  },
  {
   "metadata": {},
   "cell_type": "code",
   "source": [
    "final_image_size = (500, 500)\n",
    "final_points = np.array([\n",
    "    (0, 500),\n",
    "    (0,0),\n",
    "    (500, 500),\n",
    "    (500,0),\n",
    "])"
   ],
   "id": "f9cc16b4ef0a4f8b",
   "outputs": [],
   "execution_count": null
  },
  {
   "metadata": {},
   "cell_type": "markdown",
   "source": [
    "**Task 3**:\n",
    "\n",
    "Calculate the _projection_ to translate the starting points (`start_points`) into the final points (`final_points`).\n",
    "_Transform_ the image with the resulting projection and display it.\n",
    "\n",
    "- Save the projection in the variable `birds_eye_projection`.\n",
    "- Save the bird's eye view in the variable `image_birds_eye_view`.\n",
    "\n",
    "_Tip_: The image represents the _bird's eye view_. Use `final_image_size` to limit the resulting image.\n",
    "\n",
    "Save the resulting image under a unique name!\n",
    "\n",
    "_Tip_: Draw the image and the lines again. Deactivate the axes. Then save the image without displaying it first!\n"
   ],
   "id": "6732ff3ca6cd105e"
  },
  {
   "metadata": {},
   "cell_type": "code",
   "source": "# Code here",
   "id": "50c3b74e9e15f9fd",
   "outputs": [],
   "execution_count": null
  },
  {
   "metadata": {},
   "cell_type": "markdown",
   "source": [
    "With this translation of the image into the _bird's eye view_, we have an image that only shows the **roadway** itself.\n",
    "These are ideal conditions for recognising the **roadway**.\n",
    "Later we will reverse the translation (_bird's eye view_) with the recognised lines and thus mark the **roadway** in the original image.\n",
    "\n",
    "The lane markings stand out well from the road itself. \n",
    "The lane markings can be recognised in the image using edge detection.\n",
    "\n",
    "**Task 4**:\n",
    "\n",
    "Perform edge detection using the `Canny` algorithm.\n",
    "Show the resulting image.\n",
    "\n",
    "_Tip_: Edge smoothing improves the result.\n",
    "\n",
    "Save the resulting image under a unique name!\n",
    "\n",
    "_Tip_: Draw the image and the lines again. Deactivate the axes. Then save the image without displaying it first!\n"
   ],
   "id": "a382bde80a645aaa"
  },
  {
   "metadata": {},
   "cell_type": "code",
   "source": [
    "# Falls die vorherige Aufgabe nicht gelöst werden konnte\n",
    "if image_birds_eye_view is None:\n",
    "    from skimage import color\n",
    "    image_birds_eye_view = plt.imread(image_file[:-4]+ \"_bird_view_helper.jpg\")\n",
    "    image_birds_eye_view = color.rgb2gray(image_birds_eye_view)\n",
    "\n",
    "# Code here"
   ],
   "id": "2a4cebb67bb5c0a",
   "outputs": [],
   "execution_count": null
  },
  {
   "metadata": {},
   "cell_type": "markdown",
   "source": [
    "Now all we have to do is join the lane marking points found in this way to form a line.\n",
    "\n",
    "**Task 5**:\n",
    "\n",
    "Take a close look at the picture.\n",
    "\n",
    "What is the maximum angle at which the vertical lines should run?\n",
    "\n",
    "\n",
    "Recognise the possible lane lines using the _probabilistic_ `Hough Line` algorithm and the maximum angle of the vertical lines.\n",
    "\n",
    "Save the detected lines in the variable `detected_lines` and execute the next code cell!\n",
    "\n",
    "_Tip_: The centre lines are interrupted. Find the configuration value to merge broken lines (250 pixels long).\n"
   ],
   "id": "3cab2689bb441bfd"
  },
  {
   "metadata": {},
   "cell_type": "code",
   "source": "# Code here",
   "id": "e1ea8ab006e14b74",
   "outputs": [],
   "execution_count": null
  },
  {
   "metadata": {},
   "cell_type": "markdown",
   "source": "The recognised lines are best viewed in a `DataFrame`.",
   "id": "ed6bab0b5bd86828"
  },
  {
   "metadata": {},
   "cell_type": "code",
   "source": [
    "import pandas as pd\n",
    "\n",
    "best_lines = pd.DataFrame(np.array(detected_lines).reshape(-1, 4), columns=['start_x', 'start_y', 'end_x', 'end_y'])\n",
    "best_lines"
   ],
   "id": "50d25b17fae20f91",
   "outputs": [],
   "execution_count": null
  },
  {
   "metadata": {},
   "cell_type": "markdown",
   "source": [
    "**Task 6**:\n",
    "\n",
    "Draw the lines from the variable `best_lines` into the image of the _bird's-eye view_.\n",
    "\n",
    "Are the lane markings recognised correctly?\n",
    "\n",
    "_Tip_: First load the image and then draw the lines in red over it so that they can be optimally recognised!\n",
    "\n",
    "\n",
    "Save the resulting image under a unique name!\n",
    "\n",
    "_Tip_: Draw the image and the lines again. Deactivate the axes. Then save the image without displaying it first!\n"
   ],
   "id": "b6e0d570c5dbb6f2"
  },
  {
   "metadata": {},
   "cell_type": "code",
   "source": "# Code here",
   "id": "9a84df6e4512cdb9",
   "outputs": [],
   "execution_count": null
  },
  {
   "metadata": {},
   "cell_type": "markdown",
   "source": [
    "Once the lane markings have been recognised well in the bird's eye view, it is time to translate the recognised lines back into the original image. \n",
    "The projection you have created should enable the lines to be transformed back. \n",
    "We have split the lines into start and end points, as the projection is based on two coordinates (`x` and `y`).\n",
    "\n",
    "**Task 7**:\n",
    "\n",
    "Project back `road_lanes_start` and `road_lanes_end`.\n",
    "\n",
    "Draw the resulting points as red lines in the original image!\n",
    "\n",
    "Save the resulting image under a unique name!\n",
    "\n",
    "_Tip_: Draw the image and the lines again. Deactivate the axes. Then save the image without displaying it first!\n"
   ],
   "id": "f26f3b54e670054a"
  },
  {
   "metadata": {},
   "cell_type": "code",
   "source": [
    "road_lanes_start = best_lines[['start_x', 'start_y']].to_numpy()\n",
    "road_lanes_end = best_lines[['end_x', 'end_y']].to_numpy()\n",
    "\n",
    "# Code here"
   ],
   "id": "905ee7d9b839cfda",
   "outputs": [],
   "execution_count": null
  },
  {
   "metadata": {},
   "cell_type": "markdown",
   "source": "Try out your processing steps for the other images.",
   "id": "3caf344877030201"
  },
  {
   "metadata": {},
   "cell_type": "markdown",
   "source": [
    "***\n",
    "**Additional task**: Solve the additional task when you have worked through all the tasks once!\n",
    "\n",
    "Filter the recognised lines (`best_lines`, from **task 5**) or merge the recognised lines into two groups (left edge lines and right edge lines).\n",
    "***"
   ],
   "id": "aac777d84259f737"
  },
  {
   "metadata": {},
   "cell_type": "code",
   "outputs": [],
   "execution_count": null,
   "source": "# Code here",
   "id": "7d100eb7a73df002"
  },
  {
   "metadata": {},
   "cell_type": "markdown",
   "source": [
    "***\n",
    "**Additional task**: \n",
    "\n",
    "Replace `best_lines` with the merged or filtered lines and run the code from **Task 6** and **Task 7**.\n",
    "\n",
    "What do you notice in the images?\n",
    "\n",
    "Save the resulting image with a unique name.\n",
    "***\n"
   ],
   "id": "8e1cce0fc1ef024f"
  },
  {
   "metadata": {},
   "cell_type": "code",
   "outputs": [],
   "execution_count": null,
   "source": "# Code here",
   "id": "bae308456e63c3"
  }
 ],
 "metadata": {
  "kernelspec": {
   "name": "python3",
   "language": "python",
   "display_name": "Python 3 (ipykernel)"
  }
 },
 "nbformat": 5,
 "nbformat_minor": 9
}
